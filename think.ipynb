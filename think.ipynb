{
 "cells": [
  {
   "cell_type": "markdown",
   "metadata": {},
   "source": [
    "# Q：当我们思考数据源的时候，都有哪些维度，如果你想要使用爬虫抓取数据，都有哪些工具?"
   ]
  },
  {
   "cell_type": "markdown",
   "metadata": {},
   "source": [
    "\n",
    "    数据的维度\n",
    "    1. 开放数据源 例如政府，企业，学校提供的免费给大家使用的数据\n",
    "        我接触过的开放数据源，如查天气，百度地图api ，感觉开放数据源通常是以api形式给出来的，用起来还是非常方便的。\n",
    "    2. 爬虫爬取\n",
    "        爬虫工具 ，接触过的目前就八爪鱼\n",
    "        爬虫框架（或者说包）接触过的python的bs，nodejs的Puppeteer\n",
    "    3. 传感器数据\n",
    "        实际开发中没有接触过这类的数据。\n",
    "    4. 日志采集\n",
    "        我的理解就是服务器收集到的数据吧，自己的app自己做主，想怎么记录用户的痕迹就怎么记录（只是代码成本的问题）\n",
    "### Q： 如果是花钱向第三方购买的数据是属于开放数据集吗？还是说要看第三方是通过1，2，3，4 那个维度获取的就属于哪个维度？"
   ]
  },
  {
   "cell_type": "markdown",
   "metadata": {},
   "source": [
    "# Q: 企业的数据源来自多个维度，请思考什么是企业的数据中台，你是如何理解一方数据，二方数据，三方数据？\n",
    "    对于第一，二，三方数据的理解，比如我又一个自己的购物app，门户网站，第一方数据就是我自己服务器收集到的数据，然后用户购买东西的时候可以选择微信，支付宝，或者信用卡付款，那么冲微信，支付宝，银行这种强相关的公司获取到的数据就是属于第二方数据。然后我们如果想对市场进行调研，找到了某某公司拿到的和自己产品和用户没有强关联的数据就是第三方数据。\n",
    "    数据中台的话就是我将第一方数据，第二方数据，第三方数据一起整合起来打造一个数据层一样，这样提供的数据更加准确和全面。\n",
    "    不知道这样理解对吗。"
   ]
  },
  {
   "cell_type": "code",
   "execution_count": null,
   "metadata": {},
   "outputs": [],
   "source": []
  }
 ],
 "metadata": {
  "kernelspec": {
   "display_name": "Python 3",
   "language": "python",
   "name": "python3"
  },
  "language_info": {
   "codemirror_mode": {
    "name": "ipython",
    "version": 3
   },
   "file_extension": ".py",
   "mimetype": "text/x-python",
   "name": "python",
   "nbconvert_exporter": "python",
   "pygments_lexer": "ipython3",
   "version": "3.7.6"
  }
 },
 "nbformat": 4,
 "nbformat_minor": 4
}
